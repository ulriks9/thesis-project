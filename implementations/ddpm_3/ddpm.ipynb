{
 "cells": [
  {
   "cell_type": "code",
   "execution_count": 1,
   "metadata": {},
   "outputs": [
    {
     "name": "stderr",
     "output_type": "stream",
     "text": [
      "c:\\Users\\nyonk\\AppData\\Local\\Programs\\Python\\Python39\\lib\\site-packages\\tqdm\\auto.py:22: TqdmWarning: IProgress not found. Please update jupyter and ipywidgets. See https://ipywidgets.readthedocs.io/en/stable/user_install.html\n",
      "  from .autonotebook import tqdm as notebook_tqdm\n"
     ]
    }
   ],
   "source": [
    "import torch\n",
    "import torchaudio\n",
    "import torch.nn as nn\n",
    "from denoising_diffusion_pytorch import Unet, GaussianDiffusion\n",
    "from torchvision import datasets\n",
    "from torchvision import transforms\n",
    "import matplotlib.pyplot as plt\n",
    "from tqdm import tqdm\n",
    "import wandb\n",
    "from datetime import datetime\n",
    "import numpy as np\n",
    "from multiprocessing import cpu_count"
   ]
  },
  {
   "attachments": {},
   "cell_type": "markdown",
   "metadata": {},
   "source": [
    "## Config"
   ]
  },
  {
   "cell_type": "code",
   "execution_count": 2,
   "metadata": {},
   "outputs": [],
   "source": [
    "DEVICE = 'cuda:0'\n",
    "DATA = \"mnist\"\n",
    "MODEL_PATH = \"models/\"\n",
    "EPOCHS = 420\n",
    "LABEL = None\n",
    "TIMESTEPS = 1000\n",
    "INITIAL_DIM = 32\n",
    "IMAGE_SIZE = (32, 32)\n",
    "BATCH_SIZE = 200\n",
    "INITIAL_LR = 1e-5"
   ]
  },
  {
   "attachments": {},
   "cell_type": "markdown",
   "metadata": {},
   "source": [
    "## WandB Config"
   ]
  },
  {
   "cell_type": "code",
   "execution_count": 3,
   "metadata": {},
   "outputs": [
    {
     "name": "stderr",
     "output_type": "stream",
     "text": [
      "Failed to detect the name of this notebook, you can set it manually with the WANDB_NOTEBOOK_NAME environment variable to enable code saving.\n",
      "\u001b[34m\u001b[1mwandb\u001b[0m: Currently logged in as: \u001b[33mulriks9\u001b[0m (\u001b[33mconfident-diffusion\u001b[0m). Use \u001b[1m`wandb login --relogin`\u001b[0m to force relogin\n"
     ]
    },
    {
     "data": {
      "text/html": [
       "Tracking run with wandb version 0.15.0"
      ],
      "text/plain": [
       "<IPython.core.display.HTML object>"
      ]
     },
     "metadata": {},
     "output_type": "display_data"
    },
    {
     "data": {
      "text/html": [
       "Run data is saved locally in <code>c:\\Users\\nyonk\\Documents\\GitHub\\thesis-project\\DDPM_pre\\wandb\\run-20230430_003300-pwi2znvb</code>"
      ],
      "text/plain": [
       "<IPython.core.display.HTML object>"
      ]
     },
     "metadata": {},
     "output_type": "display_data"
    },
    {
     "data": {
      "text/html": [
       "Syncing run <strong><a href='https://wandb.ai/confident-diffusion/conifdent-diffusion/runs/pwi2znvb' target=\"_blank\">different-music-68</a></strong> to <a href='https://wandb.ai/confident-diffusion/conifdent-diffusion' target=\"_blank\">Weights & Biases</a> (<a href='https://wandb.me/run' target=\"_blank\">docs</a>)<br/>"
      ],
      "text/plain": [
       "<IPython.core.display.HTML object>"
      ]
     },
     "metadata": {},
     "output_type": "display_data"
    },
    {
     "data": {
      "text/html": [
       " View project at <a href='https://wandb.ai/confident-diffusion/conifdent-diffusion' target=\"_blank\">https://wandb.ai/confident-diffusion/conifdent-diffusion</a>"
      ],
      "text/plain": [
       "<IPython.core.display.HTML object>"
      ]
     },
     "metadata": {},
     "output_type": "display_data"
    },
    {
     "data": {
      "text/html": [
       " View run at <a href='https://wandb.ai/confident-diffusion/conifdent-diffusion/runs/pwi2znvb' target=\"_blank\">https://wandb.ai/confident-diffusion/conifdent-diffusion/runs/pwi2znvb</a>"
      ],
      "text/plain": [
       "<IPython.core.display.HTML object>"
      ]
     },
     "metadata": {},
     "output_type": "display_data"
    }
   ],
   "source": [
    "wandb.login()\n",
    "\n",
    "run = wandb.init(\n",
    "    project=\"conifdent-diffusion\",\n",
    "    config={\n",
    "        \"Epochs\": EPOCHS,\n",
    "        \"Timesteps\": TIMESTEPS,\n",
    "        \"Initial Conv Dim\": INITIAL_DIM,\n",
    "        \"Image Size\": IMAGE_SIZE,\n",
    "        \"Batch Size\": BATCH_SIZE\n",
    "    }\n",
    ")"
   ]
  },
  {
   "attachments": {},
   "cell_type": "markdown",
   "metadata": {},
   "source": [
    "## Data"
   ]
  },
  {
   "attachments": {},
   "cell_type": "markdown",
   "metadata": {},
   "source": [
    "#### MNIST Dataset:"
   ]
  },
  {
   "cell_type": "code",
   "execution_count": 4,
   "metadata": {},
   "outputs": [],
   "source": [
    "class SpectrogramYESNO(torch.utils.data.Dataset):\n",
    "    def __init__(self):\n",
    "        self.dataset = torchaudio.datasets.YESNO(\n",
    "            root=\"train_yesno/\",\n",
    "            download=True\n",
    "            )\n",
    "        \n",
    "        self.transform = torch.nn.Sequential(\n",
    "            torchaudio.transforms.Spectrogram()\n",
    "        )\n",
    "        \n",
    "    def __getitem__(self, idx):\n",
    "        waveform, sample_rate, label = self.dataset[idx]\n",
    "        spectrogram = self.transform(waveform)\n",
    "\n",
    "        print(spectrogram.shape)\n",
    "\n",
    "        return (\n",
    "            spectrogram,\n",
    "            sample_rate,\n",
    "            label\n",
    "        )\n",
    "    \n",
    "    def __len__(self):\n",
    "        return len(self.dataset)"
   ]
  },
  {
   "cell_type": "code",
   "execution_count": 5,
   "metadata": {},
   "outputs": [],
   "source": [
    "if DATA == \"mnist\":\n",
    "    preprocess = transforms.Compose([\n",
    "        transforms.ToTensor(),\n",
    "        transforms.Resize(size=IMAGE_SIZE, antialias=True)\n",
    "        ])\n",
    "\n",
    "    dataset = datasets.MNIST(\n",
    "        root=\"train_mnist/\",\n",
    "        train=True,\n",
    "        download=True,\n",
    "        transform=preprocess\n",
    "        )"
   ]
  },
  {
   "attachments": {},
   "cell_type": "markdown",
   "metadata": {},
   "source": [
    "#### GTZAN Dataset:"
   ]
  },
  {
   "cell_type": "code",
   "execution_count": 6,
   "metadata": {},
   "outputs": [],
   "source": [
    "if DATA == \"YESNO\":\n",
    "    dataset = SpectrogramYESNO()"
   ]
  },
  {
   "attachments": {},
   "cell_type": "markdown",
   "metadata": {},
   "source": [
    "#### Filter out classes:"
   ]
  },
  {
   "cell_type": "code",
   "execution_count": 7,
   "metadata": {},
   "outputs": [],
   "source": [
    "if LABEL is not None:\n",
    "    idx = dataset.targets == LABEL\n",
    "    dataset.targets = dataset.targets[idx]\n",
    "    dataset.data = dataset.data[idx]"
   ]
  },
  {
   "attachments": {},
   "cell_type": "markdown",
   "metadata": {},
   "source": [
    "#### Set up:"
   ]
  },
  {
   "cell_type": "code",
   "execution_count": 8,
   "metadata": {},
   "outputs": [],
   "source": [
    "dl = torch.utils.data.DataLoader(\n",
    "    dataset,\n",
    "    batch_size=BATCH_SIZE,\n",
    "    shuffle=True,\n",
    "    pin_memory=True\n",
    "    )"
   ]
  },
  {
   "cell_type": "code",
   "execution_count": 9,
   "metadata": {},
   "outputs": [
    {
     "name": "stdout",
     "output_type": "stream",
     "text": [
      "(1, 32, 32)\n"
     ]
    },
    {
     "data": {
      "image/png": "[encoded data removed]",
      "text/plain": [
       "<Figure size 640x480 with 1 Axes>"
      ]
     },
     "metadata": {},
     "output_type": "display_data"
    }
   ],
   "source": [
    "example_image = next(iter(dl))[0][0].numpy()\n",
    "print(example_image.shape)\n",
    "plt.imshow(example_image.transpose((1, 2, 0)))\n",
    "plt.show()"
   ]
  },
  {
   "attachments": {},
   "cell_type": "markdown",
   "metadata": {},
   "source": [
    "## Model"
   ]
  },
  {
   "cell_type": "code",
   "execution_count": 10,
   "metadata": {},
   "outputs": [],
   "source": [
    "def get_model():\n",
    "    model = Unet(\n",
    "        dim=INITIAL_DIM,\n",
    "        dim_mults = (1, 2, 4, 8),\n",
    "        channels=1\n",
    "        ).to(DEVICE)\n",
    "    \n",
    "    diffusion = GaussianDiffusion(\n",
    "        model,\n",
    "        image_size=IMAGE_SIZE[0],\n",
    "        timesteps=TIMESTEPS,\n",
    "        loss_type='l1'\n",
    "        ).to(DEVICE)\n",
    "    \n",
    "    return diffusion"
   ]
  },
  {
   "attachments": {},
   "cell_type": "markdown",
   "metadata": {},
   "source": [
    "## Training"
   ]
  },
  {
   "cell_type": "code",
   "execution_count": 11,
   "metadata": {},
   "outputs": [
    {
     "name": "stderr",
     "output_type": "stream",
     "text": [
      "Epoch 1/420: 100%|\u001b[38;2;85;211;255m██████████\u001b[0m| 300/300 [01:18<00:00,  3.84it/s, loss=0.325]\n"
     ]
    },
    {
     "name": "stdout",
     "output_type": "stream",
     "text": [
      "INFO: New model saved.\n"
     ]
    },
    {
     "name": "stderr",
     "output_type": "stream",
     "text": [
      "Epoch 2/420: 100%|\u001b[38;2;85;211;255m██████████\u001b[0m| 300/300 [01:14<00:00,  4.04it/s, loss=0.231]\n"
     ]
    },
    {
     "name": "stdout",
     "output_type": "stream",
     "text": [
      "INFO: New model saved.\n"
     ]
    },
    {
     "name": "stderr",
     "output_type": "stream",
     "text": [
      "Epoch 3/420: 100%|\u001b[38;2;85;211;255m██████████\u001b[0m| 300/300 [01:14<00:00,  4.03it/s, loss=0.177]\n"
     ]
    },
    {
     "name": "stdout",
     "output_type": "stream",
     "text": [
      "INFO: New model saved.\n"
     ]
    },
    {
     "name": "stderr",
     "output_type": "stream",
     "text": [
      "Epoch 4/420: 100%|\u001b[38;2;85;211;255m██████████\u001b[0m| 300/300 [01:15<00:00,  4.00it/s, loss=0.171]\n"
     ]
    },
    {
     "name": "stdout",
     "output_type": "stream",
     "text": [
      "INFO: New model saved.\n"
     ]
    },
    {
     "name": "stderr",
     "output_type": "stream",
     "text": [
      "Epoch 5/420: 100%|\u001b[38;2;85;211;255m██████████\u001b[0m| 300/300 [01:13<00:00,  4.11it/s, loss=0.135]\n"
     ]
    },
    {
     "name": "stdout",
     "output_type": "stream",
     "text": [
      "INFO: New model saved.\n"
     ]
    },
    {
     "name": "stderr",
     "output_type": "stream",
     "text": [
      "Epoch 6/420: 100%|\u001b[38;2;85;211;255m██████████\u001b[0m| 300/300 [01:13<00:00,  4.10it/s, loss=0.131]\n"
     ]
    },
    {
     "name": "stdout",
     "output_type": "stream",
     "text": [
      "INFO: New model saved.\n"
     ]
    },
    {
     "name": "stderr",
     "output_type": "stream",
     "text": [
      "Epoch 7/420: 100%|\u001b[38;2;85;211;255m██████████\u001b[0m| 300/300 [01:13<00:00,  4.10it/s, loss=0.125]\n"
     ]
    },
    {
     "name": "stdout",
     "output_type": "stream",
     "text": [
      "INFO: New model saved.\n"
     ]
    },
    {
     "name": "stderr",
     "output_type": "stream",
     "text": [
      "Epoch 8/420: 100%|\u001b[38;2;85;211;255m██████████\u001b[0m| 300/300 [01:13<00:00,  4.11it/s, loss=0.113]\n"
     ]
    },
    {
     "name": "stdout",
     "output_type": "stream",
     "text": [
      "INFO: New model saved.\n"
     ]
    },
    {
     "name": "stderr",
     "output_type": "stream",
     "text": [
      "Epoch 9/420: 100%|\u001b[38;2;85;211;255m██████████\u001b[0m| 300/300 [01:13<00:00,  4.09it/s, loss=0.12] \n",
      "Epoch 10/420: 100%|\u001b[38;2;85;211;255m██████████\u001b[0m| 300/300 [01:15<00:00,  3.99it/s, loss=0.107]\n"
     ]
    },
    {
     "name": "stdout",
     "output_type": "stream",
     "text": [
      "INFO: New model saved.\n"
     ]
    },
    {
     "name": "stderr",
     "output_type": "stream",
     "text": [
      "Epoch 11/420: 100%|\u001b[38;2;85;211;255m██████████\u001b[0m| 300/300 [01:14<00:00,  4.05it/s, loss=0.111] \n",
      "Epoch 12/420: 100%|\u001b[38;2;85;211;255m██████████\u001b[0m| 300/300 [01:15<00:00,  3.98it/s, loss=0.105] \n"
     ]
    },
    {
     "name": "stdout",
     "output_type": "stream",
     "text": [
      "INFO: New model saved.\n"
     ]
    },
    {
     "name": "stderr",
     "output_type": "stream",
     "text": [
      "Epoch 13/420: 100%|\u001b[38;2;85;211;255m██████████\u001b[0m| 300/300 [01:13<00:00,  4.09it/s, loss=0.106] \n",
      "Epoch 14/420: 100%|\u001b[38;2;85;211;255m██████████\u001b[0m| 300/300 [01:14<00:00,  4.02it/s, loss=0.103] \n"
     ]
    },
    {
     "name": "stdout",
     "output_type": "stream",
     "text": [
      "INFO: New model saved.\n"
     ]
    },
    {
     "name": "stderr",
     "output_type": "stream",
     "text": [
      "Epoch 15/420: 100%|\u001b[38;2;85;211;255m██████████\u001b[0m| 300/300 [01:15<00:00,  3.95it/s, loss=0.0986]\n"
     ]
    },
    {
     "name": "stdout",
     "output_type": "stream",
     "text": [
      "INFO: New model saved.\n"
     ]
    },
    {
     "name": "stderr",
     "output_type": "stream",
     "text": [
      "Epoch 16/420: 100%|\u001b[38;2;85;211;255m██████████\u001b[0m| 300/300 [01:15<00:00,  3.96it/s, loss=0.108] \n",
      "Epoch 17/420: 100%|\u001b[38;2;85;211;255m██████████\u001b[0m| 300/300 [01:15<00:00,  3.96it/s, loss=0.0914]\n"
     ]
    },
    {
     "name": "stdout",
     "output_type": "stream",
     "text": [
      "INFO: New model saved.\n"
     ]
    },
    {
     "name": "stderr",
     "output_type": "stream",
     "text": [
      "Epoch 18/420: 100%|\u001b[38;2;85;211;255m██████████\u001b[0m| 300/300 [01:15<00:00,  4.00it/s, loss=0.0944]\n",
      "Epoch 19/420: 100%|\u001b[38;2;85;211;255m██████████\u001b[0m| 300/300 [01:15<00:00,  3.96it/s, loss=0.0927]\n",
      "Epoch 20/420: 100%|\u001b[38;2;85;211;255m██████████\u001b[0m| 300/300 [01:15<00:00,  3.97it/s, loss=0.0958]\n",
      "Epoch 21/420: 100%|\u001b[38;2;85;211;255m██████████\u001b[0m| 300/300 [01:15<00:00,  3.96it/s, loss=0.0934]\n",
      "Epoch 22/420: 100%|\u001b[38;2;85;211;255m██████████\u001b[0m| 300/300 [01:15<00:00,  4.00it/s, loss=0.0895]\n"
     ]
    },
    {
     "name": "stdout",
     "output_type": "stream",
     "text": [
      "INFO: New model saved.\n"
     ]
    },
    {
     "name": "stderr",
     "output_type": "stream",
     "text": [
      "Epoch 23/420: 100%|\u001b[38;2;85;211;255m██████████\u001b[0m| 300/300 [01:12<00:00,  4.11it/s, loss=0.0892]\n"
     ]
    },
    {
     "name": "stdout",
     "output_type": "stream",
     "text": [
      "INFO: New model saved.\n"
     ]
    },
    {
     "name": "stderr",
     "output_type": "stream",
     "text": [
      "Epoch 24/420:  98%|\u001b[38;2;85;211;255m█████████▊\u001b[0m| 294/300 [01:13<00:01,  4.01it/s, loss=0.0902]\n"
     ]
    },
    {
     "ename": "KeyboardInterrupt",
     "evalue": "",
     "output_type": "error",
     "traceback": [
      "\u001b[1;31m---------------------------------------------------------------------------\u001b[0m",
      "\u001b[1;31mKeyboardInterrupt\u001b[0m                         Traceback (most recent call last)",
      "\u001b[1;32mc:\\Users\\nyonk\\Documents\\GitHub\\thesis-project\\DDPM_pre\\ddpm.ipynb Cell 20\u001b[0m in \u001b[0;36m1\n\u001b[0;32m     <a href='vscode-notebook-cell:/c%3A/Users/nyonk/Documents/GitHub/thesis-project/DDPM_pre/ddpm.ipynb#X25sZmlsZQ%3D%3D?line=14'>15</a>\u001b[0m optimizer\u001b[39m.\u001b[39mstep()\n\u001b[0;32m     <a href='vscode-notebook-cell:/c%3A/Users/nyonk/Documents/GitHub/thesis-project/DDPM_pre/ddpm.ipynb#X25sZmlsZQ%3D%3D?line=15'>16</a>\u001b[0m optimizer\u001b[39m.\u001b[39mzero_grad()\n\u001b[1;32m---> <a href='vscode-notebook-cell:/c%3A/Users/nyonk/Documents/GitHub/thesis-project/DDPM_pre/ddpm.ipynb#X25sZmlsZQ%3D%3D?line=17'>18</a>\u001b[0m logs \u001b[39m=\u001b[39m {\u001b[39m\"\u001b[39m\u001b[39mloss\u001b[39m\u001b[39m\"\u001b[39m: loss\u001b[39m.\u001b[39;49mdetach()\u001b[39m.\u001b[39;49mitem()}\n\u001b[0;32m     <a href='vscode-notebook-cell:/c%3A/Users/nyonk/Documents/GitHub/thesis-project/DDPM_pre/ddpm.ipynb#X25sZmlsZQ%3D%3D?line=18'>19</a>\u001b[0m pbar\u001b[39m.\u001b[39mset_postfix(\u001b[39m*\u001b[39m\u001b[39m*\u001b[39mlogs)\n\u001b[0;32m     <a href='vscode-notebook-cell:/c%3A/Users/nyonk/Documents/GitHub/thesis-project/DDPM_pre/ddpm.ipynb#X25sZmlsZQ%3D%3D?line=19'>20</a>\u001b[0m wandb\u001b[39m.\u001b[39mlog({\u001b[39m\"\u001b[39m\u001b[39mloss\u001b[39m\u001b[39m\"\u001b[39m: loss\u001b[39m.\u001b[39mdetach()\u001b[39m.\u001b[39mitem()})\n",
      "\u001b[1;31mKeyboardInterrupt\u001b[0m: "
     ]
    }
   ],
   "source": [
    "best_loss = float(\"inf\")\n",
    "diffusion = get_model()\n",
    "models_saved = 0\n",
    "diffusion.train()\n",
    "optimizer = torch.optim.AdamW(diffusion.parameters(), INITIAL_LR)\n",
    "\n",
    "for epoch in range(EPOCHS):\n",
    "    pbar = tqdm(dl, leave=True, desc=f\"Epoch {epoch + 1}/{EPOCHS}\", colour=\"#55D3FF\")\n",
    "\n",
    "    for batch in pbar:\n",
    "        batch = batch[0].to(DEVICE)\n",
    "        loss = diffusion(batch)\n",
    "        loss.backward()\n",
    "\n",
    "        optimizer.step()\n",
    "        optimizer.zero_grad()\n",
    "\n",
    "        logs = {\"loss\": loss.detach().item()}\n",
    "        pbar.set_postfix(**logs)\n",
    "        wandb.log({\"loss\": loss.detach().item()})\n",
    "\n",
    "    epoch_loss = loss.detach().item()\n",
    "    if epoch_loss < best_loss:\n",
    "        torch.save({\"model_state_dict\": diffusion.state_dict()}, MODEL_PATH + \"model.pt\")\n",
    "        best_loss = epoch_loss\n",
    "        print(\"INFO: New model saved.\")\n",
    "        models_saved += 1\n",
    "        wandb.log({\"models_saved\": models_saved})"
   ]
  },
  {
   "attachments": {},
   "cell_type": "markdown",
   "metadata": {},
   "source": [
    "## Inference"
   ]
  },
  {
   "cell_type": "code",
   "execution_count": 14,
   "metadata": {},
   "outputs": [
    {
     "name": "stderr",
     "output_type": "stream",
     "text": [
      "sampling loop time step: 100%|██████████| 1000/1000 [00:29<00:00, 33.77it/s]\n"
     ]
    },
    {
     "data": {
      "image/png": "[encoded data removed]",
      "text/plain": [
       "<Figure size 640x480 with 1 Axes>"
      ]
     },
     "metadata": {},
     "output_type": "display_data"
    }
   ],
   "source": [
    "diffusion = get_model().to(DEVICE)\n",
    "checkpoint = torch.load(\"models/model.pt\")\n",
    "diffusion.load_state_dict(checkpoint[\"model_state_dict\"])\n",
    "sampled_images = diffusion.sample(batch_size=1)\n",
    "for image in sampled_images:\n",
    "    image = image.cpu().detach().numpy()\n",
    "    image = image.transpose((1,2,0))\n",
    "\n",
    "    plt.imshow(image)\n",
    "    plt.show()"
   ]
  }
 ],
 "metadata": {
  "kernelspec": {
   "display_name": "Python 3",
   "language": "python",
   "name": "python3"
  },
  "language_info": {
   "codemirror_mode": {
    "name": "ipython",
    "version": 3
   },
   "file_extension": ".py",
   "mimetype": "text/x-python",
   "name": "python",
   "nbconvert_exporter": "python",
   "pygments_lexer": "ipython3",
   "version": "3.9.0"
  },
  "orig_nbformat": 4
 },
 "nbformat": 4,
 "nbformat_minor": 2
}
