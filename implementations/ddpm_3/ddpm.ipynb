{
 "cells": [
  {
   "cell_type": "code",
   "execution_count": null,
   "metadata": {},
   "outputs": [],
   "source": [
    "import torch\n",
    "import torchaudio\n",
    "import torch.nn as nn\n",
    "from denoising_diffusion_pytorch import Unet, GaussianDiffusion\n",
    "from torchvision import datasets\n",
    "from torchvision import transforms\n",
    "import matplotlib.pyplot as plt\n",
    "from tqdm import tqdm\n",
    "import wandb\n",
    "from datetime import datetime\n",
    "import numpy as np\n",
    "from multiprocessing import cpu_count"
   ]
  },
  {
   "attachments": {},
   "cell_type": "markdown",
   "metadata": {},
   "source": [
    "## Config"
   ]
  },
  {
   "cell_type": "code",
   "execution_count": null,
   "metadata": {},
   "outputs": [],
   "source": [
    "DEVICE = 'cuda:0'\n",
    "DATA = \"mnist\"\n",
    "MODEL_PATH = \"models/\"\n",
    "EPOCHS = 420\n",
    "LABEL = None\n",
    "TIMESTEPS = 1000\n",
    "INITIAL_DIM = 32\n",
    "IMAGE_SIZE = (32, 32)\n",
    "BATCH_SIZE = 200\n",
    "INITIAL_LR = 1e-5"
   ]
  },
  {
   "attachments": {},
   "cell_type": "markdown",
   "metadata": {},
   "source": [
    "## WandB Config"
   ]
  },
  {
   "cell_type": "code",
   "execution_count": null,
   "metadata": {},
   "outputs": [],
   "source": [
    "wandb.login()\n",
    "\n",
    "run = wandb.init(\n",
    "    project=\"conifdent-diffusion\",\n",
    "    config={\n",
    "        \"Epochs\": EPOCHS,\n",
    "        \"Timesteps\": TIMESTEPS,\n",
    "        \"Initial Conv Dim\": INITIAL_DIM,\n",
    "        \"Image Size\": IMAGE_SIZE,\n",
    "        \"Batch Size\": BATCH_SIZE\n",
    "    }\n",
    ")"
   ]
  },
  {
   "attachments": {},
   "cell_type": "markdown",
   "metadata": {},
   "source": [
    "## Data"
   ]
  },
  {
   "attachments": {},
   "cell_type": "markdown",
   "metadata": {},
   "source": [
    "#### MNIST Dataset:"
   ]
  },
  {
   "cell_type": "code",
   "execution_count": null,
   "metadata": {},
   "outputs": [],
   "source": [
    "class SpectrogramYESNO(torch.utils.data.Dataset):\n",
    "    def __init__(self):\n",
    "        self.dataset = torchaudio.datasets.YESNO(\n",
    "            root=\"train_yesno/\",\n",
    "            download=True\n",
    "            )\n",
    "        \n",
    "        self.transform = torch.nn.Sequential(\n",
    "            torchaudio.transforms.Spectrogram()\n",
    "        )\n",
    "        \n",
    "    def __getitem__(self, idx):\n",
    "        waveform, sample_rate, label = self.dataset[idx]\n",
    "        spectrogram = self.transform(waveform)\n",
    "\n",
    "        print(spectrogram.shape)\n",
    "\n",
    "        return (\n",
    "            spectrogram,\n",
    "            sample_rate,\n",
    "            label\n",
    "        )\n",
    "    \n",
    "    def __len__(self):\n",
    "        return len(self.dataset)"
   ]
  },
  {
   "cell_type": "code",
   "execution_count": null,
   "metadata": {},
   "outputs": [],
   "source": [
    "if DATA == \"mnist\":\n",
    "    preprocess = transforms.Compose([\n",
    "        transforms.ToTensor(),\n",
    "        transforms.Resize(size=IMAGE_SIZE, antialias=True)\n",
    "        ])\n",
    "\n",
    "    dataset = datasets.MNIST(\n",
    "        root=\"train_mnist/\",\n",
    "        train=True,\n",
    "        download=True,\n",
    "        transform=preprocess\n",
    "        )"
   ]
  },
  {
   "attachments": {},
   "cell_type": "markdown",
   "metadata": {},
   "source": [
    "#### GTZAN Dataset:"
   ]
  },
  {
   "cell_type": "code",
   "execution_count": null,
   "metadata": {},
   "outputs": [],
   "source": [
    "if DATA == \"YESNO\":\n",
    "    dataset = SpectrogramYESNO()"
   ]
  },
  {
   "attachments": {},
   "cell_type": "markdown",
   "metadata": {},
   "source": [
    "#### Filter out classes:"
   ]
  },
  {
   "cell_type": "code",
   "execution_count": null,
   "metadata": {},
   "outputs": [],
   "source": [
    "if LABEL is not None:\n",
    "    idx = dataset.targets == LABEL\n",
    "    dataset.targets = dataset.targets[idx]\n",
    "    dataset.data = dataset.data[idx]"
   ]
  },
  {
   "attachments": {},
   "cell_type": "markdown",
   "metadata": {},
   "source": [
    "#### Set up:"
   ]
  },
  {
   "cell_type": "code",
   "execution_count": null,
   "metadata": {},
   "outputs": [],
   "source": [
    "dl = torch.utils.data.DataLoader(\n",
    "    dataset,\n",
    "    batch_size=BATCH_SIZE,\n",
    "    shuffle=True,\n",
    "    pin_memory=True\n",
    "    )"
   ]
  },
  {
   "cell_type": "code",
   "execution_count": null,
   "metadata": {},
   "outputs": [],
   "source": [
    "example_image = next(iter(dl))[0][0].numpy()\n",
    "print(example_image.shape)\n",
    "plt.imshow(example_image.transpose((1, 2, 0)))\n",
    "plt.show()"
   ]
  },
  {
   "attachments": {},
   "cell_type": "markdown",
   "metadata": {},
   "source": [
    "## Model"
   ]
  },
  {
   "cell_type": "code",
   "execution_count": null,
   "metadata": {},
   "outputs": [],
   "source": [
    "def get_model():\n",
    "    model = Unet(\n",
    "        dim=INITIAL_DIM,\n",
    "        dim_mults = (1, 2, 4, 8),\n",
    "        channels=1\n",
    "        ).to(DEVICE)\n",
    "    \n",
    "    diffusion = GaussianDiffusion(\n",
    "        model,\n",
    "        image_size=IMAGE_SIZE[0],\n",
    "        timesteps=TIMESTEPS,\n",
    "        loss_type='l1'\n",
    "        ).to(DEVICE)\n",
    "    \n",
    "    return diffusion"
   ]
  },
  {
   "attachments": {},
   "cell_type": "markdown",
   "metadata": {},
   "source": [
    "## Training"
   ]
  },
  {
   "cell_type": "code",
   "execution_count": null,
   "metadata": {},
   "outputs": [],
   "source": [
    "best_loss = float(\"inf\")\n",
    "diffusion = get_model()\n",
    "models_saved = 0\n",
    "diffusion.train()\n",
    "optimizer = torch.optim.AdamW(diffusion.parameters(), INITIAL_LR)\n",
    "\n",
    "for epoch in range(EPOCHS):\n",
    "    pbar = tqdm(dl, leave=True, desc=f\"Epoch {epoch + 1}/{EPOCHS}\", colour=\"#55D3FF\")\n",
    "\n",
    "    for batch in pbar:\n",
    "        batch = batch[0].to(DEVICE)\n",
    "        loss = diffusion(batch)\n",
    "        loss.backward()\n",
    "\n",
    "        optimizer.step()\n",
    "        optimizer.zero_grad()\n",
    "\n",
    "        logs = {\"loss\": loss.detach().item()}\n",
    "        pbar.set_postfix(**logs)\n",
    "        wandb.log({\"loss\": loss.detach().item()})\n",
    "\n",
    "    epoch_loss = loss.detach().item()\n",
    "    if epoch_loss < best_loss:\n",
    "        torch.save({\"model_state_dict\": diffusion.state_dict()}, MODEL_PATH + \"model.pt\")\n",
    "        best_loss = epoch_loss\n",
    "        print(\"INFO: New model saved.\")\n",
    "        models_saved += 1\n",
    "        wandb.log({\"models_saved\": models_saved})"
   ]
  },
  {
   "attachments": {},
   "cell_type": "markdown",
   "metadata": {},
   "source": [
    "## Inference"
   ]
  },
  {
   "cell_type": "code",
   "execution_count": null,
   "metadata": {},
   "outputs": [],
   "source": [
    "diffusion = get_model().to(DEVICE)\n",
    "checkpoint = torch.load(\"models/model.pt\")\n",
    "diffusion.load_state_dict(checkpoint[\"model_state_dict\"])\n",
    "sampled_images = diffusion.sample(batch_size=1)\n",
    "for image in sampled_images:\n",
    "    image = image.cpu().detach().numpy()\n",
    "    image = image.transpose((1,2,0))\n",
    "\n",
    "    plt.imshow(image)\n",
    "    plt.show()"
   ]
  }
 ],
 "metadata": {
  "kernelspec": {
   "display_name": "Python 3",
   "language": "python",
   "name": "python3"
  },
  "language_info": {
   "codemirror_mode": {
    "name": "ipython",
    "version": 3
   },
   "file_extension": ".py",
   "mimetype": "text/x-python",
   "name": "python",
   "nbconvert_exporter": "python",
   "pygments_lexer": "ipython3",
   "version": "3.9.0"
  },
  "orig_nbformat": 4
 },
 "nbformat": 4,
 "nbformat_minor": 2
}
